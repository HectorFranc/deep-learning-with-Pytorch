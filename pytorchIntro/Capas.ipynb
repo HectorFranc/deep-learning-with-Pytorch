{
  "nbformat": 4,
  "nbformat_minor": 0,
  "metadata": {
    "colab": {
      "name": "Capas.ipynb",
      "provenance": [],
      "authorship_tag": "ABX9TyNnpn5T2NM4HoHmzEv9+qcD"
    },
    "kernelspec": {
      "name": "python3",
      "display_name": "Python 3"
    }
  },
  "cells": [
    {
      "cell_type": "code",
      "metadata": {
        "id": "YbIRlBrF5V-g",
        "colab_type": "code",
        "colab": {}
      },
      "source": [
        "import torch # pytorch\n",
        "import torch.nn as nn # pytorch neural networks"
      ],
      "execution_count": 0,
      "outputs": []
    },
    {
      "cell_type": "code",
      "metadata": {
        "id": "OgUt9dpo52WE",
        "colab_type": "code",
        "colab": {}
      },
      "source": [
        "# Capa lineal con tensor de entrada tamaño 4096 y salida, 10\n",
        "linear = nn.Linear(in_features=4096, out_features=10) # Toma tensores de dimension 1\n",
        "\n",
        "# Capa convulocional, 3 canales de entrada (por que RGB tiene tres canales)\n",
        "#   9 canales de salida (nosotros decidimos según el diseño de la red)\n",
        "#   Valores por defectoÑ kernel_size=3, stride=1, padding=1\n",
        "conv = nn.Conv2d(in_channels=3, out_channels=9, kernel_size=3, stride=1, padding=1) # Modifica los canales, no modifica el tamaño\n",
        "# Toma tensores de dimension cuatro (como las imágenes)\n",
        "\n",
        "# Capa RelU, False para que no lo haga in-place (que no modifique el tensor original)\n",
        "relu = nn.ReLU(False)# Toma de entrada cualquier tamaño de tensor\n",
        "\n",
        "# Las capas convolucionales 2d son para imágenes y las 3d son para videos"
      ],
      "execution_count": 0,
      "outputs": []
    },
    {
      "cell_type": "code",
      "metadata": {
        "id": "FbeCvpBm7AN4",
        "colab_type": "code",
        "colab": {
          "base_uri": "https://localhost:8080/",
          "height": 34
        },
        "outputId": "7a308d7b-bb2f-4db9-adaa-dde5dc49cd2b"
      },
      "source": [
        "# Linear \n",
        "x = torch.randn(4096)\n",
        "y = linear(x)\n",
        "y.size()"
      ],
      "execution_count": 14,
      "outputs": [
        {
          "output_type": "execute_result",
          "data": {
            "text/plain": [
              "torch.Size([10])"
            ]
          },
          "metadata": {
            "tags": []
          },
          "execution_count": 14
        }
      ]
    },
    {
      "cell_type": "code",
      "metadata": {
        "id": "j35cdx0DBZyT",
        "colab_type": "code",
        "colab": {
          "base_uri": "https://localhost:8080/",
          "height": 34
        },
        "outputId": "57e4089b-3e93-4770-b383-416b1fe37493"
      },
      "source": [
        "# Convulotional and ReLU\n",
        "x = torch.randn((1, 3, 7, 7))\n",
        "y = conv(x)\n",
        "r = relu(x)\n",
        "y.size(), r.size()"
      ],
      "execution_count": 18,
      "outputs": [
        {
          "output_type": "execute_result",
          "data": {
            "text/plain": [
              "(torch.Size([1, 9, 7, 7]), torch.Size([1, 3, 7, 7]))"
            ]
          },
          "metadata": {
            "tags": []
          },
          "execution_count": 18
        }
      ]
    },
    {
      "cell_type": "code",
      "metadata": {
        "id": "yUgVqp-UDxaZ",
        "colab_type": "code",
        "colab": {
          "base_uri": "https://localhost:8080/",
          "height": 85
        },
        "outputId": "1d54067d-9153-466c-c2f8-f075e18319b9"
      },
      "source": [
        "# \"Perillas\": Parámetros de la capa lineal\n",
        "for name, p in linear.named_parameters():\n",
        "  print(name)\n",
        "  print(p.size())"
      ],
      "execution_count": 24,
      "outputs": [
        {
          "output_type": "stream",
          "text": [
            "weight\n",
            "torch.Size([10, 4096])\n",
            "bias\n",
            "torch.Size([10])\n"
          ],
          "name": "stdout"
        }
      ]
    },
    {
      "cell_type": "code",
      "metadata": {
        "id": "THHn9X4xEkZe",
        "colab_type": "code",
        "colab": {
          "base_uri": "https://localhost:8080/",
          "height": 85
        },
        "outputId": "c81cd50c-dd85-45af-8401-316502da6296"
      },
      "source": [
        "# \"Perillas\": Parámetros de la capa convolucional\n",
        "for name, p in conv.named_parameters():\n",
        "  print(name)\n",
        "  print(p.size())"
      ],
      "execution_count": 27,
      "outputs": [
        {
          "output_type": "stream",
          "text": [
            "weight\n",
            "torch.Size([9, 3, 3, 3])\n",
            "bias\n",
            "torch.Size([9])\n"
          ],
          "name": "stdout"
        }
      ]
    },
    {
      "cell_type": "code",
      "metadata": {
        "id": "L2qPopg8F1JF",
        "colab_type": "code",
        "colab": {}
      },
      "source": [
        "# \"Perillas\": Parámetros de la capa ReLU\n",
        "for name, p in relu.named_parameters():\n",
        "  print(name)\n",
        "  print(p.size())"
      ],
      "execution_count": 0,
      "outputs": []
    },
    {
      "cell_type": "code",
      "metadata": {
        "id": "mAjGTek4GV26",
        "colab_type": "code",
        "colab": {}
      },
      "source": [
        ""
      ],
      "execution_count": 0,
      "outputs": []
    }
  ]
}
{
  "nbformat": 4,
  "nbformat_minor": 0,
  "metadata": {
    "colab": {
      "name": "redNeuronal.ipynb",
      "provenance": [],
      "collapsed_sections": [
        "YmARVbY7nxx7",
        "EONSLTJmn3bg",
        "eRrVI7_sW6Jh",
        "XILU3lTzZpRq",
        "DxZbZmTBZsEE"
      ],
      "authorship_tag": "ABX9TyNhe7WYlaqeiK/E5XwOgJFL"
    },
    "kernelspec": {
      "name": "python3",
      "display_name": "Python 3"
    },
    "accelerator": "GPU"
  },
  "cells": [
    {
      "cell_type": "code",
      "metadata": {
        "id": "qJ3D7YtuI4IM",
        "colab_type": "code",
        "colab": {}
      },
      "source": [
        "import torch\n",
        "import torch.nn as nn\n",
        "import torch.nn.functional as F # Capas sin parámetros (como ReLU)"
      ],
      "execution_count": 0,
      "outputs": []
    },
    {
      "cell_type": "markdown",
      "metadata": {
        "id": "YmARVbY7nxx7",
        "colab_type": "text"
      },
      "source": [
        "# Crear una red neuronal\n",
        "---"
      ]
    },
    {
      "cell_type": "code",
      "metadata": {
        "id": "wwxZIfirJJ_N",
        "colab_type": "code",
        "colab": {}
      },
      "source": [
        "# Una red es una clase que hereda de nn.Module (torch.nn.Module)\n",
        "class Net (nn.Module):\n",
        "  def __init__(self, num_channels):\n",
        "    super(Net, self).__init__()\n",
        "\n",
        "    self.num_channels = num_channels\n",
        "\n",
        "    self.conv1 = nn.Conv2d(3, self.num_channels, 3, stride=1, padding=1)\n",
        "    self.conv2 = nn.Conv2d(self.num_channels, self.num_channels * 2, 3, stride=1, padding=1)\n",
        "    self.conv3 = nn.Conv2d(self.num_channels * 2, self.num_channels * 4, 3, stride=1, padding=1)\n",
        "\n",
        "    self.fc1 = nn.Linear(self.num_channels*4*8*8, self.num_channels*4)\n",
        "    self.fc2 = nn.Linear(self.num_channels*4, 6)\n",
        "\n",
        "  def forward(self, x):\n",
        "    # Empezamos con un x de 3 x 64 x 64\n",
        "    x = self.conv1(x) # num_channels x 64 x 64\n",
        "\n",
        "    # max_pool2d divide el tamaño de la matriz por el segundo argumento\n",
        "    x = F.relu(F.max_pool2d(x, 2)) # num_channels x 32 x 32\n",
        "\n",
        "    x = self.conv2(x) # num_channels*2 x 32 x 32\n",
        "    x = F.relu(F.max_pool2d(x, 2)) # num_channels*2 x 16 x 16\n",
        "    x = self.conv3(x) # num_channels*4 x 16 x 16\n",
        "    x = F.relu(F.max_pool2d(x, 2)) # num_channels*4 x 8 x 8\n",
        "\n",
        "    # view transforma el tamaño del tensor. Con -1 es como decir flatten\n",
        "    x = x.view(-1, self.num_channels*4*8*8)\n",
        "\n",
        "    # fc (fully connected || Linear)\n",
        "    x = self.fc1(x)\n",
        "    x = F.relu(x)\n",
        "    x = self.fc2(x)\n",
        "\n",
        "    # Log softmax para probabilidades\n",
        "    x = F.log_softmax(x, dim=1)\n",
        "\n",
        "    return x"
      ],
      "execution_count": 0,
      "outputs": []
    },
    {
      "cell_type": "markdown",
      "metadata": {
        "id": "EONSLTJmn3bg",
        "colab_type": "text"
      },
      "source": [
        "# Traer datos con Pytorch\n",
        "---"
      ]
    },
    {
      "cell_type": "code",
      "metadata": {
        "id": "klLL48hsQf7L",
        "colab_type": "code",
        "outputId": "51fc86bf-5c8c-405e-d316-93717b59d5c7",
        "colab": {
          "base_uri": "https://localhost:8080/",
          "height": 34
        }
      },
      "source": [
        "from google.colab import drive\n",
        "drive.mount('/gdrive')"
      ],
      "execution_count": 0,
      "outputs": [
        {
          "output_type": "stream",
          "text": [
            "Drive already mounted at /gdrive; to attempt to forcibly remount, call drive.mount(\"/gdrive\", force_remount=True).\n"
          ],
          "name": "stdout"
        }
      ]
    },
    {
      "cell_type": "code",
      "metadata": {
        "id": "XBt4fbijoSCX",
        "colab_type": "code",
        "outputId": "cdc5c63c-3936-477e-9c4c-2aed2516be54",
        "colab": {
          "base_uri": "https://localhost:8080/",
          "height": 34
        }
      },
      "source": [
        "!ls '/gdrive/My Drive/dl-pytorch/datasets/64x64_SIGNS'"
      ],
      "execution_count": 0,
      "outputs": [
        {
          "output_type": "stream",
          "text": [
            "test_signs  train_signs  val_signs\n"
          ],
          "name": "stdout"
        }
      ]
    },
    {
      "cell_type": "code",
      "metadata": {
        "id": "gG1z9bSJpKSk",
        "colab_type": "code",
        "colab": {}
      },
      "source": [
        "import sys\n",
        "sys.path.append('/gdrive/My Drive/dl-pytorch/')"
      ],
      "execution_count": 0,
      "outputs": []
    },
    {
      "cell_type": "code",
      "metadata": {
        "id": "tzbcknsvpXkh",
        "colab_type": "code",
        "colab": {}
      },
      "source": [
        "from plot_helpers import imshow"
      ],
      "execution_count": 0,
      "outputs": []
    },
    {
      "cell_type": "code",
      "metadata": {
        "id": "GzpaRiRbpnhE",
        "colab_type": "code",
        "colab": {}
      },
      "source": [
        "import os\n",
        "from PIL import Image\n",
        "from torch.utils.data import Dataset, DataLoader\n",
        "class SIGNSDataset(Dataset):\n",
        "  def __init__(self, base_dir, split='train', transform=None):\n",
        "    path = os.path.join(base_dir, f'{split}_signs')\n",
        "    files = os.listdir(path)\n",
        "\n",
        "    self.filenames = [os.path.join(path, f) for f in files if f.endswith('.jpg')]\n",
        "\n",
        "    self.targets = [int(f[0]) for f in files]\n",
        "\n",
        "    self.transform = transform\n",
        "\n",
        "  def __len__(self):\n",
        "    return len(self.filenames)\n",
        "\n",
        "  def __getitem__(self, idx):\n",
        "    image = Image.open(self.filenames[idx])\n",
        "    if self.transform:\n",
        "      image = self.transform(image)\n",
        "    return image, self.targets[idx]"
      ],
      "execution_count": 0,
      "outputs": []
    },
    {
      "cell_type": "code",
      "metadata": {
        "id": "2cR0RO28VAp5",
        "colab_type": "code",
        "colab": {}
      },
      "source": [
        "signs = SIGNSDataset('/gdrive/My Drive/dl-pytorch/datasets/64x64_SIGNS', split='train')"
      ],
      "execution_count": 0,
      "outputs": []
    },
    {
      "cell_type": "code",
      "metadata": {
        "id": "RgsBUT2oVsqR",
        "colab_type": "code",
        "outputId": "45348a95-05ca-4479-eef8-9dbb132aff84",
        "colab": {
          "base_uri": "https://localhost:8080/",
          "height": 34
        }
      },
      "source": [
        "len(signs)"
      ],
      "execution_count": 0,
      "outputs": [
        {
          "output_type": "execute_result",
          "data": {
            "text/plain": [
              "864"
            ]
          },
          "metadata": {
            "tags": []
          },
          "execution_count": 9
        }
      ]
    },
    {
      "cell_type": "code",
      "metadata": {
        "id": "WlWjyxKBWGdx",
        "colab_type": "code",
        "outputId": "9711945a-c7d3-4ff9-932c-69f4c737921e",
        "colab": {
          "base_uri": "https://localhost:8080/",
          "height": 81
        }
      },
      "source": [
        "signs[0][0]"
      ],
      "execution_count": 0,
      "outputs": [
        {
          "output_type": "execute_result",
          "data": {
            "image/png": "[encoded data removed]",
            "text/plain": [
              "<PIL.JpegImagePlugin.JpegImageFile image mode=RGB size=64x64 at 0x7F9A8E5ECCF8>"
            ]
          },
          "metadata": {
            "tags": []
          },
          "execution_count": 10
        }
      ]
    },
    {
      "cell_type": "markdown",
      "metadata": {
        "id": "eRrVI7_sW6Jh",
        "colab_type": "text"
      },
      "source": [
        "# Métodos para entrenar red neuronal\n",
        "---"
      ]
    },
    {
      "cell_type": "markdown",
      "metadata": {
        "id": "XILU3lTzZpRq",
        "colab_type": "text"
      },
      "source": [
        "## Data loader"
      ]
    },
    {
      "cell_type": "code",
      "metadata": {
        "id": "I-bSby39W4MK",
        "colab_type": "code",
        "colab": {}
      },
      "source": [
        "import torchvision.transforms as transforms # Coleccion de funciones de preprocesamiento"
      ],
      "execution_count": 0,
      "outputs": []
    },
    {
      "cell_type": "code",
      "metadata": {
        "id": "VwqWElk9XOg5",
        "colab_type": "code",
        "colab": {}
      },
      "source": [
        "trainset = SIGNSDataset('/gdrive/My Drive/dl-pytorch/datasets/64x64_SIGNS', split='train', transform=transforms.ToTensor())"
      ],
      "execution_count": 0,
      "outputs": []
    },
    {
      "cell_type": "code",
      "metadata": {
        "id": "BKjhjM73Xnqn",
        "colab_type": "code",
        "colab": {}
      },
      "source": [
        "dataloader = DataLoader(trainset, batch_size=32)"
      ],
      "execution_count": 0,
      "outputs": []
    },
    {
      "cell_type": "code",
      "metadata": {
        "id": "Lvm7a922XqPs",
        "colab_type": "code",
        "outputId": "c09f6444-82d7-4f80-abac-4ae8fa7939a9",
        "colab": {
          "base_uri": "https://localhost:8080/"
        }
      },
      "source": [
        "from torchvision.utils import make_grid\n",
        "for inputs, target in dataloader:\n",
        "  out = make_grid(inputs)\n",
        "  imshow(out)\n",
        "  print(target)\n",
        "  break"
      ],
      "execution_count": 0,
      "outputs": [
        {
          "output_type": "display_data",
          "data": {
            "image/png": "[encoded data removed]",
            "text/plain": [
              "<Figure size 432x288 with 1 Axes>"
            ]
          },
          "metadata": {
            "tags": []
          }
        },
        {
          "output_type": "stream",
          "text": [
            "tensor([1, 1, 2, 1, 2, 0, 3, 2, 4, 3, 1, 4, 5, 1, 1, 1, 4, 5, 4, 2, 3, 1, 3, 4,\n",
            "        2, 3, 1, 0, 0, 5, 5, 4])\n"
          ],
          "name": "stdout"
        }
      ]
    },
    {
      "cell_type": "markdown",
      "metadata": {
        "id": "DxZbZmTBZsEE",
        "colab_type": "text"
      },
      "source": [
        "## Entrenamiento"
      ]
    },
    {
      "cell_type": "code",
      "metadata": {
        "id": "ouEAosGeYV4N",
        "colab_type": "code",
        "colab": {}
      },
      "source": [
        "import torch.optim as optim # Métodos de optimizacion"
      ],
      "execution_count": 0,
      "outputs": []
    },
    {
      "cell_type": "code",
      "metadata": {
        "id": "LIQdXSKKawXU",
        "colab_type": "code",
        "colab": {}
      },
      "source": [
        "device = torch.device('cuda')"
      ],
      "execution_count": 0,
      "outputs": []
    },
    {
      "cell_type": "code",
      "metadata": {
        "id": "xRokWoucZ273",
        "colab_type": "code",
        "colab": {}
      },
      "source": [
        "net = Net(32).to(device)"
      ],
      "execution_count": 0,
      "outputs": []
    },
    {
      "cell_type": "code",
      "metadata": {
        "id": "XJEfhmsAa-7x",
        "colab_type": "code",
        "colab": {}
      },
      "source": [
        "loss_fn = nn.NLLLoss()\n",
        "optimizer = optim.SGD(net.parameters(), lr=1e-3, momentum=0.9)"
      ],
      "execution_count": 0,
      "outputs": []
    },
    {
      "cell_type": "code",
      "metadata": {
        "id": "oMYqXSRcct2s",
        "colab_type": "code",
        "colab": {}
      },
      "source": [
        "class RunningMetric():\n",
        "  def __init__(self):\n",
        "    self.S = 0\n",
        "    self.N = 0\n",
        "\n",
        "  def update(self, val, size):\n",
        "    self.S += val\n",
        "    self.N += size\n",
        "\n",
        "  def __call__(self):\n",
        "    return self.S/float(self.N)"
      ],
      "execution_count": 0,
      "outputs": []
    },
    {
      "cell_type": "markdown",
      "metadata": {
        "id": "Qd-3BZt7eoJ_",
        "colab_type": "text"
      },
      "source": [
        "# Entrenar red neuronal\n",
        "---"
      ]
    },
    {
      "cell_type": "code",
      "metadata": {
        "id": "p16pILnKeOZj",
        "colab_type": "code",
        "colab": {}
      },
      "source": [
        "num_epochs = 100"
      ],
      "execution_count": 0,
      "outputs": []
    },
    {
      "cell_type": "code",
      "metadata": {
        "id": "44AM9wdEf2P9",
        "colab_type": "code",
        "outputId": "93da33ed-3d93-4697-c54e-94b793a9657e",
        "colab": {
          "base_uri": "https://localhost:8080/",
          "height": 1000
        }
      },
      "source": [
        "for epoch in range(num_epochs):\n",
        "  print(f'Epoch: {epoch + 1}/{num_epochs}')\n",
        "  print('='*10)\n",
        "\n",
        "  running_loss = RunningMetric() # Tasa de error (pérdida)\n",
        "  running_acc = RunningMetric() # Tasa de precisión\n",
        "\n",
        "  for inputs, targets in dataloader:\n",
        "    inputs, targets = inputs.to(device), targets.to(device) # Convertir a GPU\n",
        "\n",
        "    optimizer.zero_grad() # Resetear gradientes a cero\n",
        "\n",
        "    outputs = net(inputs) # Calcular salidas\n",
        "    _, preds = torch.max(outputs, 1) # Calcular las predicciones segun el porcentaje maximo\n",
        "    loss = loss_fn(outputs, targets) # Calcular las pérdidad\n",
        "\n",
        "    loss.backward() # Gradientes calculados\n",
        "    optimizer.step() # Actualiza los parámetros\n",
        "\n",
        "  # Estadísticas\n",
        "  batch_size = inputs.size()[0]\n",
        "  running_loss.update(loss.item() * batch_size, batch_size)\n",
        "  running_acc.update(torch.sum(preds == targets).float(), batch_size)\n",
        "  print('Loss: {:.4f} Accuracy: {:.4f}'.format(running_loss(), running_acc()))"
      ],
      "execution_count": 0,
      "outputs": [
        {
          "output_type": "stream",
          "text": [
            "Epoch: 1/100\n",
            "==========\n",
            "Loss: 1.7903 Accuracy: 0.1562\n",
            "Epoch: 2/100\n",
            "==========\n",
            "Loss: 1.7904 Accuracy: 0.1562\n",
            "Epoch: 3/100\n",
            "==========\n",
            "Loss: 1.7905 Accuracy: 0.1562\n",
            "Epoch: 4/100\n",
            "==========\n",
            "Loss: 1.7904 Accuracy: 0.1562\n",
            "Epoch: 5/100\n",
            "==========\n",
            "Loss: 1.7904 Accuracy: 0.1562\n",
            "Epoch: 6/100\n",
            "==========\n",
            "Loss: 1.7904 Accuracy: 0.1562\n",
            "Epoch: 7/100\n",
            "==========\n",
            "Loss: 1.7903 Accuracy: 0.1562\n",
            "Epoch: 8/100\n",
            "==========\n",
            "Loss: 1.7902 Accuracy: 0.1562\n",
            "Epoch: 9/100\n",
            "==========\n",
            "Loss: 1.7901 Accuracy: 0.1562\n",
            "Epoch: 10/100\n",
            "==========\n",
            "Loss: 1.7900 Accuracy: 0.1562\n",
            "Epoch: 11/100\n",
            "==========\n",
            "Loss: 1.7898 Accuracy: 0.1562\n",
            "Epoch: 12/100\n",
            "==========\n",
            "Loss: 1.7897 Accuracy: 0.1562\n",
            "Epoch: 13/100\n",
            "==========\n",
            "Loss: 1.7895 Accuracy: 0.1562\n",
            "Epoch: 14/100\n",
            "==========\n",
            "Loss: 1.7894 Accuracy: 0.1562\n",
            "Epoch: 15/100\n",
            "==========\n",
            "Loss: 1.7892 Accuracy: 0.1562\n",
            "Epoch: 16/100\n",
            "==========\n",
            "Loss: 1.7889 Accuracy: 0.1562\n",
            "Epoch: 17/100\n",
            "==========\n",
            "Loss: 1.7887 Accuracy: 0.1562\n",
            "Epoch: 18/100\n",
            "==========\n",
            "Loss: 1.7884 Accuracy: 0.1562\n",
            "Epoch: 19/100\n",
            "==========\n",
            "Loss: 1.7881 Accuracy: 0.1562\n",
            "Epoch: 20/100\n",
            "==========\n",
            "Loss: 1.7878 Accuracy: 0.1562\n",
            "Epoch: 21/100\n",
            "==========\n",
            "Loss: 1.7875 Accuracy: 0.1562\n",
            "Epoch: 22/100\n",
            "==========\n",
            "Loss: 1.7871 Accuracy: 0.1562\n",
            "Epoch: 23/100\n",
            "==========\n",
            "Loss: 1.7868 Accuracy: 0.1562\n",
            "Epoch: 24/100\n",
            "==========\n",
            "Loss: 1.7863 Accuracy: 0.1562\n",
            "Epoch: 25/100\n",
            "==========\n",
            "Loss: 1.7859 Accuracy: 0.1562\n",
            "Epoch: 26/100\n",
            "==========\n",
            "Loss: 1.7854 Accuracy: 0.1562\n",
            "Epoch: 27/100\n",
            "==========\n",
            "Loss: 1.7848 Accuracy: 0.1562\n",
            "Epoch: 28/100\n",
            "==========\n",
            "Loss: 1.7842 Accuracy: 0.1562\n",
            "Epoch: 29/100\n",
            "==========\n",
            "Loss: 1.7834 Accuracy: 0.1562\n",
            "Epoch: 30/100\n",
            "==========\n",
            "Loss: 1.7826 Accuracy: 0.1875\n",
            "Epoch: 31/100\n",
            "==========\n",
            "Loss: 1.7818 Accuracy: 0.1875\n",
            "Epoch: 32/100\n",
            "==========\n",
            "Loss: 1.7807 Accuracy: 0.1562\n",
            "Epoch: 33/100\n",
            "==========\n",
            "Loss: 1.7795 Accuracy: 0.1875\n",
            "Epoch: 34/100\n",
            "==========\n",
            "Loss: 1.7782 Accuracy: 0.1875\n",
            "Epoch: 35/100\n",
            "==========\n",
            "Loss: 1.7766 Accuracy: 0.2188\n",
            "Epoch: 36/100\n",
            "==========\n",
            "Loss: 1.7748 Accuracy: 0.2500\n",
            "Epoch: 37/100\n",
            "==========\n",
            "Loss: 1.7725 Accuracy: 0.2500\n",
            "Epoch: 38/100\n",
            "==========\n",
            "Loss: 1.7699 Accuracy: 0.2500\n",
            "Epoch: 39/100\n",
            "==========\n",
            "Loss: 1.7669 Accuracy: 0.2500\n",
            "Epoch: 40/100\n",
            "==========\n",
            "Loss: 1.7633 Accuracy: 0.2188\n",
            "Epoch: 41/100\n",
            "==========\n",
            "Loss: 1.7594 Accuracy: 0.1875\n",
            "Epoch: 42/100\n",
            "==========\n",
            "Loss: 1.7551 Accuracy: 0.1875\n",
            "Epoch: 43/100\n",
            "==========\n",
            "Loss: 1.7520 Accuracy: 0.1562\n",
            "Epoch: 44/100\n",
            "==========\n",
            "Loss: 1.7475 Accuracy: 0.1562\n",
            "Epoch: 45/100\n",
            "==========\n",
            "Loss: 1.7389 Accuracy: 0.1562\n",
            "Epoch: 46/100\n",
            "==========\n",
            "Loss: 1.7116 Accuracy: 0.1875\n",
            "Epoch: 47/100\n",
            "==========\n",
            "Loss: 1.6759 Accuracy: 0.1562\n",
            "Epoch: 48/100\n",
            "==========\n",
            "Loss: 1.6498 Accuracy: 0.2500\n",
            "Epoch: 49/100\n",
            "==========\n",
            "Loss: 1.6331 Accuracy: 0.2812\n",
            "Epoch: 50/100\n",
            "==========\n",
            "Loss: 1.5712 Accuracy: 0.2812\n",
            "Epoch: 51/100\n",
            "==========\n",
            "Loss: 1.4744 Accuracy: 0.4062\n",
            "Epoch: 52/100\n",
            "==========\n",
            "Loss: 1.4286 Accuracy: 0.4062\n",
            "Epoch: 53/100\n",
            "==========\n",
            "Loss: 1.3476 Accuracy: 0.4062\n",
            "Epoch: 54/100\n",
            "==========\n",
            "Loss: 1.2880 Accuracy: 0.3750\n",
            "Epoch: 55/100\n",
            "==========\n",
            "Loss: 1.2035 Accuracy: 0.5625\n",
            "Epoch: 56/100\n",
            "==========\n",
            "Loss: 1.1357 Accuracy: 0.5938\n",
            "Epoch: 57/100\n",
            "==========\n",
            "Loss: 1.0967 Accuracy: 0.5938\n",
            "Epoch: 58/100\n",
            "==========\n",
            "Loss: 1.0159 Accuracy: 0.6250\n",
            "Epoch: 59/100\n",
            "==========\n",
            "Loss: 0.9693 Accuracy: 0.6875\n",
            "Epoch: 60/100\n",
            "==========\n",
            "Loss: 0.9450 Accuracy: 0.6875\n",
            "Epoch: 61/100\n",
            "==========\n",
            "Loss: 0.9047 Accuracy: 0.6875\n",
            "Epoch: 62/100\n",
            "==========\n",
            "Loss: 0.8927 Accuracy: 0.7188\n",
            "Epoch: 63/100\n",
            "==========\n",
            "Loss: 0.9741 Accuracy: 0.6562\n",
            "Epoch: 64/100\n",
            "==========\n",
            "Loss: 0.9222 Accuracy: 0.6250\n",
            "Epoch: 65/100\n",
            "==========\n",
            "Loss: 0.8783 Accuracy: 0.7500\n",
            "Epoch: 66/100\n",
            "==========\n",
            "Loss: 0.8010 Accuracy: 0.7500\n",
            "Epoch: 67/100\n",
            "==========\n",
            "Loss: 0.8060 Accuracy: 0.7812\n",
            "Epoch: 68/100\n",
            "==========\n",
            "Loss: 0.7833 Accuracy: 0.7500\n",
            "Epoch: 69/100\n",
            "==========\n",
            "Loss: 0.7603 Accuracy: 0.7812\n",
            "Epoch: 70/100\n",
            "==========\n",
            "Loss: 0.7469 Accuracy: 0.7812\n",
            "Epoch: 71/100\n",
            "==========\n",
            "Loss: 0.7240 Accuracy: 0.7500\n",
            "Epoch: 72/100\n",
            "==========\n",
            "Loss: 0.7133 Accuracy: 0.7812\n",
            "Epoch: 73/100\n",
            "==========\n",
            "Loss: 0.6924 Accuracy: 0.7812\n",
            "Epoch: 74/100\n",
            "==========\n",
            "Loss: 0.6736 Accuracy: 0.7812\n",
            "Epoch: 75/100\n",
            "==========\n",
            "Loss: 0.6583 Accuracy: 0.7812\n",
            "Epoch: 76/100\n",
            "==========\n",
            "Loss: 0.6511 Accuracy: 0.7812\n",
            "Epoch: 77/100\n",
            "==========\n",
            "Loss: 0.6361 Accuracy: 0.7812\n",
            "Epoch: 78/100\n",
            "==========\n",
            "Loss: 0.6402 Accuracy: 0.7812\n",
            "Epoch: 79/100\n",
            "==========\n",
            "Loss: 0.6077 Accuracy: 0.7812\n",
            "Epoch: 80/100\n",
            "==========\n",
            "Loss: 0.6104 Accuracy: 0.7812\n",
            "Epoch: 81/100\n",
            "==========\n",
            "Loss: 0.5851 Accuracy: 0.8125\n",
            "Epoch: 82/100\n",
            "==========\n",
            "Loss: 0.5853 Accuracy: 0.8125\n",
            "Epoch: 83/100\n",
            "==========\n",
            "Loss: 0.5675 Accuracy: 0.8125\n",
            "Epoch: 84/100\n",
            "==========\n",
            "Loss: 0.5681 Accuracy: 0.8125\n",
            "Epoch: 85/100\n",
            "==========\n",
            "Loss: 0.5368 Accuracy: 0.8125\n",
            "Epoch: 86/100\n",
            "==========\n",
            "Loss: 0.5648 Accuracy: 0.7812\n",
            "Epoch: 87/100\n",
            "==========\n",
            "Loss: 0.5240 Accuracy: 0.8125\n",
            "Epoch: 88/100\n",
            "==========\n",
            "Loss: 0.4942 Accuracy: 0.8125\n",
            "Epoch: 89/100\n",
            "==========\n",
            "Loss: 0.5072 Accuracy: 0.8125\n",
            "Epoch: 90/100\n",
            "==========\n",
            "Loss: 0.4825 Accuracy: 0.8125\n",
            "Epoch: 91/100\n",
            "==========\n",
            "Loss: 0.4733 Accuracy: 0.8125\n",
            "Epoch: 92/100\n",
            "==========\n",
            "Loss: 0.4550 Accuracy: 0.8125\n",
            "Epoch: 93/100\n",
            "==========\n",
            "Loss: 0.4387 Accuracy: 0.8125\n",
            "Epoch: 94/100\n",
            "==========\n",
            "Loss: 0.4330 Accuracy: 0.8438\n",
            "Epoch: 95/100\n",
            "==========\n",
            "Loss: 0.4160 Accuracy: 0.8438\n",
            "Epoch: 96/100\n",
            "==========\n",
            "Loss: 0.4470 Accuracy: 0.8125\n",
            "Epoch: 97/100\n",
            "==========\n",
            "Loss: 0.4820 Accuracy: 0.8125\n",
            "Epoch: 98/100\n",
            "==========\n",
            "Loss: 0.4300 Accuracy: 0.8438\n",
            "Epoch: 99/100\n",
            "==========\n",
            "Loss: 0.3815 Accuracy: 0.8125\n",
            "Epoch: 100/100\n",
            "==========\n",
            "Loss: 0.3770 Accuracy: 0.8438\n"
          ],
          "name": "stdout"
        }
      ]
    },
    {
      "cell_type": "code",
      "metadata": {
        "id": "crz39VBfxugy",
        "colab_type": "code",
        "colab": {}
      },
      "source": [
        ""
      ],
      "execution_count": 0,
      "outputs": []
    }
  ]
}